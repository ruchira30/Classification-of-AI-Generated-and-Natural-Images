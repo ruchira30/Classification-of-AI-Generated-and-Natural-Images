{
  "cells": [
    {
      "cell_type": "code",
      "execution_count": null,
      "id": "aef90d79",
      "metadata": {
        "id": "aef90d79",
        "outputId": "8c58efad-2021-42a4-e890-e98d30f7b794"
      },
      "outputs": [
        {
          "ename": "ModuleNotFoundError",
          "evalue": "No module named 'cv2'",
          "output_type": "error",
          "traceback": [
            "\u001b[1;31m---------------------------------------------------------------------------\u001b[0m",
            "\u001b[1;31mModuleNotFoundError\u001b[0m                       Traceback (most recent call last)",
            "Input \u001b[1;32mIn [1]\u001b[0m, in \u001b[0;36m<cell line: 4>\u001b[1;34m()\u001b[0m\n\u001b[0;32m      2\u001b[0m \u001b[38;5;28;01mimport\u001b[39;00m \u001b[38;5;21;01mmatplotlib\u001b[39;00m\u001b[38;5;21;01m.\u001b[39;00m\u001b[38;5;21;01mpyplot\u001b[39;00m \u001b[38;5;28;01mas\u001b[39;00m \u001b[38;5;21;01mplt\u001b[39;00m\n\u001b[0;32m      3\u001b[0m \u001b[38;5;28;01mimport\u001b[39;00m \u001b[38;5;21;01mos\u001b[39;00m\n\u001b[1;32m----> 4\u001b[0m \u001b[38;5;28;01mimport\u001b[39;00m \u001b[38;5;21;01mcv2\u001b[39;00m \u001b[38;5;28;01mas\u001b[39;00m \u001b[38;5;21;01mcv\u001b[39;00m\n\u001b[0;32m      5\u001b[0m \u001b[38;5;28;01mfrom\u001b[39;00m \u001b[38;5;21;01mpygoogle_image\u001b[39;00m \u001b[38;5;28;01mimport\u001b[39;00m image \u001b[38;5;28;01mas\u001b[39;00m pi\n\u001b[0;32m      6\u001b[0m \u001b[38;5;28;01mimport\u001b[39;00m \u001b[38;5;21;01mrandom\u001b[39;00m\n",
            "\u001b[1;31mModuleNotFoundError\u001b[0m: No module named 'cv2'"
          ]
        }
      ],
      "source": [
        "import numpy as np\n",
        "import matplotlib.pyplot as plt\n",
        "import os\n",
        "import cv2 as cv\n",
        "from pygoogle_image import image as pi\n",
        "import random\n",
        "import PIL\n",
        "import pickle"
      ]
    },
    {
      "cell_type": "code",
      "execution_count": null,
      "id": "1b499681",
      "metadata": {
        "id": "1b499681"
      },
      "outputs": [],
      "source": [
        "data = r\"C:\\Users\\puroh\\Downloads\\dataset_train\"\n",
        "categories = ['Real', 'AIGenerated']"
      ]
    },
    {
      "cell_type": "code",
      "execution_count": null,
      "id": "3a377d16",
      "metadata": {
        "id": "3a377d16"
      },
      "outputs": [],
      "source": [
        "img_size = 48"
      ]
    },
    {
      "cell_type": "code",
      "execution_count": null,
      "id": "5f1e3f38",
      "metadata": {
        "id": "5f1e3f38",
        "outputId": "34f7ab40-359d-46a1-fa4e-a7f50cb55e47"
      },
      "outputs": [
        {
          "name": "stdout",
          "output_type": "stream",
          "text": [
            "Failed to load or process image: C:\\Users\\puroh\\Downloads\\dataset_train\\AIGenerated\\ai generated characters_34.gif\n",
            "Failed to load or process image: C:\\Users\\puroh\\Downloads\\dataset_train\\AIGenerated\\ai generated characters_36.gif\n",
            "Total number of images loaded: 1013\n"
          ]
        }
      ],
      "source": [
        "import os\n",
        "import cv2 as cv\n",
        "\n",
        "img_size = 48\n",
        "training_data = []\n",
        "\n",
        "for category in categories:\n",
        "    path = os.path.join(data, category)\n",
        "    classes = categories.index(category)\n",
        "\n",
        "    for img in os.listdir(path):\n",
        "        img_array = cv.imread(os.path.join(path, img))\n",
        "\n",
        "        # Check if the image was successfully loaded\n",
        "        if img_array is not None and img_array.size != 0:\n",
        "            new_array = cv.resize(img_array, (img_size, img_size))\n",
        "            new_array = new_array / 255\n",
        "            training_data.append([new_array, classes])\n",
        "        else:\n",
        "            print(f\"Failed to load or process image: {os.path.join(path, img)}\")\n",
        "\n",
        "print(f\"Total number of images loaded: {len(training_data)}\")\n",
        "\n"
      ]
    },
    {
      "cell_type": "code",
      "execution_count": null,
      "id": "7c33d035",
      "metadata": {
        "id": "7c33d035",
        "outputId": "4a4c1dea-b26c-4442-8b6e-d9dcf3961820"
      },
      "outputs": [
        {
          "data": {
            "text/plain": [
              "(1013, (48, 48, 3))"
            ]
          },
          "execution_count": 5,
          "metadata": {},
          "output_type": "execute_result"
        }
      ],
      "source": [
        "len(training_data), training_data[0][0].shape"
      ]
    },
    {
      "cell_type": "code",
      "execution_count": null,
      "id": "5495c0ff",
      "metadata": {
        "id": "5495c0ff"
      },
      "outputs": [],
      "source": [
        "import random\n",
        "random.shuffle(training_data)"
      ]
    },
    {
      "cell_type": "code",
      "execution_count": null,
      "id": "6869e076",
      "metadata": {
        "id": "6869e076"
      },
      "outputs": [],
      "source": [
        "X_train = []\n",
        "y_train = []\n",
        "\n",
        "for features, label in training_data:\n",
        "    X_train.append(features)\n",
        "    y_train.append(label)\n",
        "\n",
        "X_train = np.array(X_train).reshape(-1, img_size, img_size, 3)\n",
        "y_train = np.array(y_train)"
      ]
    },
    {
      "cell_type": "code",
      "execution_count": null,
      "id": "f80e4f5d",
      "metadata": {
        "id": "f80e4f5d",
        "outputId": "1c44665b-7dd9-41c2-eb77-13f4d6ca8c2b"
      },
      "outputs": [
        {
          "data": {
            "text/plain": [
              "(1013, 48, 48, 3)"
            ]
          },
          "execution_count": 8,
          "metadata": {},
          "output_type": "execute_result"
        }
      ],
      "source": [
        "X_train.shape"
      ]
    },
    {
      "cell_type": "code",
      "execution_count": null,
      "id": "4030990a",
      "metadata": {
        "id": "4030990a",
        "outputId": "575328fa-4078-4e8a-8ffd-b83e11140c4b"
      },
      "outputs": [
        {
          "data": {
            "text/plain": [
              "(1013,)"
            ]
          },
          "execution_count": 9,
          "metadata": {},
          "output_type": "execute_result"
        }
      ],
      "source": [
        "y_train.shape"
      ]
    },
    {
      "cell_type": "code",
      "execution_count": null,
      "id": "0853a578",
      "metadata": {
        "id": "0853a578",
        "outputId": "3c4b4ad1-c559-4def-fd9b-8f21054c588f"
      },
      "outputs": [
        {
          "data": {
            "text/plain": [
              "(48, 48, 3)"
            ]
          },
          "execution_count": 10,
          "metadata": {},
          "output_type": "execute_result"
        }
      ],
      "source": [
        "X_train[0].shape"
      ]
    },
    {
      "cell_type": "code",
      "execution_count": null,
      "id": "1553dcc1",
      "metadata": {
        "id": "1553dcc1"
      },
      "outputs": [],
      "source": [
        "pickle_out = open(\"X_train.pickle\", \"wb\")\n",
        "pickle.dump(X_train, pickle_out, protocol=4)\n",
        "pickle_out.close()\n",
        "\n",
        "pickle_out = open(\"y_train.pickle\", \"wb\")\n",
        "pickle.dump(y_train, pickle_out, protocol=4)\n",
        "pickle_out.close()"
      ]
    },
    {
      "cell_type": "code",
      "execution_count": null,
      "id": "2cce1c86",
      "metadata": {
        "id": "2cce1c86"
      },
      "outputs": [],
      "source": [
        "pickle_in = open(\"X_train.pickle\", \"rb\")\n",
        "X_train = pickle.load(pickle_in)\n",
        "\n",
        "pickle_in = open(\"y_train.pickle\", \"rb\")\n",
        "y_train = pickle.load(pickle_in)"
      ]
    },
    {
      "cell_type": "code",
      "execution_count": null,
      "id": "4b279c98",
      "metadata": {
        "id": "4b279c98",
        "outputId": "379dac14-fa91-4711-8801-63a73f083e6c"
      },
      "outputs": [
        {
          "data": {
            "text/plain": [
              "(1013, 48, 48, 3)"
            ]
          },
          "execution_count": 13,
          "metadata": {},
          "output_type": "execute_result"
        }
      ],
      "source": [
        "X_train.shape\n"
      ]
    },
    {
      "cell_type": "code",
      "execution_count": null,
      "id": "7622d377",
      "metadata": {
        "id": "7622d377",
        "outputId": "a9844f3d-3434-4026-c1ac-12568c394581"
      },
      "outputs": [
        {
          "data": {
            "text/plain": [
              "(1013,)"
            ]
          },
          "execution_count": 14,
          "metadata": {},
          "output_type": "execute_result"
        }
      ],
      "source": [
        "y_train.shape"
      ]
    },
    {
      "cell_type": "code",
      "execution_count": null,
      "id": "620d5a6c",
      "metadata": {
        "id": "620d5a6c"
      },
      "outputs": [],
      "source": [
        "import tensorflow as tf\n",
        "from tensorflow import keras\n",
        "from tensorflow.keras import layers, models, Sequential\n"
      ]
    },
    {
      "cell_type": "code",
      "execution_count": null,
      "id": "a6927441",
      "metadata": {
        "id": "a6927441"
      },
      "outputs": [],
      "source": [
        "model = keras.Sequential([\n",
        "    keras.layers.Conv2D(32,(3,3), activation='relu', input_shape = (48,48,3)),\n",
        "    keras.layers.MaxPool2D((2,2)),\n",
        "    keras.layers.Dropout(0.2),\n",
        "\n",
        "    keras.layers.Conv2D(64,(3,3), activation='relu'),\n",
        "    keras.layers.MaxPool2D((2,2)),\n",
        "    keras.layers.Dropout(0.2),\n",
        "\n",
        "    keras.layers.Conv2D(128,(3,3), activation='relu'),\n",
        "    keras.layers.MaxPool2D((2,2)),\n",
        "    keras.layers.Dropout(0.2),\n",
        "\n",
        "    keras.layers.Conv2D(256,(3,3), activation='relu'),\n",
        "    keras.layers.MaxPool2D((2,2)),\n",
        "    keras.layers.Dropout(0.2),\n",
        "\n",
        "    keras.layers.Flatten(),\n",
        "    keras.layers.Dense(64, activation='relu'),\n",
        "    keras.layers.Dense(64, activation='relu'),\n",
        "    keras.layers.Dense(1, activation='sigmoid')\n",
        "\n",
        "])\n",
        "\n",
        "model.compile(\n",
        "    optimizer='adam',\n",
        "    loss='binary_crossentropy',\n",
        "    metrics=['accuracy']\n",
        ")"
      ]
    },
    {
      "cell_type": "code",
      "execution_count": null,
      "id": "c19c5060",
      "metadata": {
        "scrolled": true,
        "id": "c19c5060",
        "outputId": "d5a2ffd9-3035-41ef-b96f-d6b3c816d1ff"
      },
      "outputs": [
        {
          "name": "stdout",
          "output_type": "stream",
          "text": [
            "Model: \"sequential\"\n",
            "_________________________________________________________________\n",
            " Layer (type)                Output Shape              Param #   \n",
            "=================================================================\n",
            " conv2d (Conv2D)             (None, 46, 46, 32)        896       \n",
            "                                                                 \n",
            " max_pooling2d (MaxPooling2D  (None, 23, 23, 32)       0         \n",
            " )                                                               \n",
            "                                                                 \n",
            " dropout (Dropout)           (None, 23, 23, 32)        0         \n",
            "                                                                 \n",
            " conv2d_1 (Conv2D)           (None, 21, 21, 64)        18496     \n",
            "                                                                 \n",
            " max_pooling2d_1 (MaxPooling  (None, 10, 10, 64)       0         \n",
            " 2D)                                                             \n",
            "                                                                 \n",
            " dropout_1 (Dropout)         (None, 10, 10, 64)        0         \n",
            "                                                                 \n",
            " conv2d_2 (Conv2D)           (None, 8, 8, 128)         73856     \n",
            "                                                                 \n",
            " max_pooling2d_2 (MaxPooling  (None, 4, 4, 128)        0         \n",
            " 2D)                                                             \n",
            "                                                                 \n",
            " dropout_2 (Dropout)         (None, 4, 4, 128)         0         \n",
            "                                                                 \n",
            " conv2d_3 (Conv2D)           (None, 2, 2, 256)         295168    \n",
            "                                                                 \n",
            " max_pooling2d_3 (MaxPooling  (None, 1, 1, 256)        0         \n",
            " 2D)                                                             \n",
            "                                                                 \n",
            " dropout_3 (Dropout)         (None, 1, 1, 256)         0         \n",
            "                                                                 \n",
            " flatten (Flatten)           (None, 256)               0         \n",
            "                                                                 \n",
            " dense (Dense)               (None, 64)                16448     \n",
            "                                                                 \n",
            " dense_1 (Dense)             (None, 64)                4160      \n",
            "                                                                 \n",
            " dense_2 (Dense)             (None, 1)                 65        \n",
            "                                                                 \n",
            "=================================================================\n",
            "Total params: 409,089\n",
            "Trainable params: 409,089\n",
            "Non-trainable params: 0\n",
            "_________________________________________________________________\n"
          ]
        }
      ],
      "source": [
        "model.summary()"
      ]
    },
    {
      "cell_type": "code",
      "execution_count": null,
      "id": "0966da0f",
      "metadata": {
        "scrolled": false,
        "id": "0966da0f",
        "outputId": "18ccbe6c-18d3-4a17-b589-8bfe67221ae6"
      },
      "outputs": [
        {
          "name": "stdout",
          "output_type": "stream",
          "text": [
            "Epoch 1/15\n",
            "32/32 [==============================] - 4s 49ms/step - loss: 0.6971 - accuracy: 0.4896\n",
            "Epoch 2/15\n",
            "32/32 [==============================] - 1s 47ms/step - loss: 0.6930 - accuracy: 0.4946\n",
            "Epoch 3/15\n",
            "32/32 [==============================] - 2s 49ms/step - loss: 0.6930 - accuracy: 0.5212\n",
            "Epoch 4/15\n",
            "32/32 [==============================] - 2s 47ms/step - loss: 0.6863 - accuracy: 0.5568\n",
            "Epoch 5/15\n",
            "32/32 [==============================] - 1s 45ms/step - loss: 0.6789 - accuracy: 0.5617\n",
            "Epoch 6/15\n",
            "32/32 [==============================] - 1s 45ms/step - loss: 0.6583 - accuracy: 0.6199\n",
            "Epoch 7/15\n",
            "32/32 [==============================] - 1s 44ms/step - loss: 0.6460 - accuracy: 0.6397\n",
            "Epoch 8/15\n",
            "32/32 [==============================] - 1s 44ms/step - loss: 0.5981 - accuracy: 0.6851\n",
            "Epoch 9/15\n",
            "32/32 [==============================] - 1s 44ms/step - loss: 0.5718 - accuracy: 0.7088\n",
            "Epoch 10/15\n",
            "32/32 [==============================] - 2s 56ms/step - loss: 0.5731 - accuracy: 0.7068\n",
            "Epoch 11/15\n",
            "32/32 [==============================] - 2s 60ms/step - loss: 0.5262 - accuracy: 0.7502\n",
            "Epoch 12/15\n",
            "32/32 [==============================] - 2s 59ms/step - loss: 0.4895 - accuracy: 0.7739\n",
            "Epoch 13/15\n",
            "32/32 [==============================] - 2s 57ms/step - loss: 0.4354 - accuracy: 0.8184\n",
            "Epoch 14/15\n",
            "32/32 [==============================] - 2s 55ms/step - loss: 0.4420 - accuracy: 0.7828\n",
            "Epoch 15/15\n",
            "32/32 [==============================] - 2s 57ms/step - loss: 0.3662 - accuracy: 0.8460\n"
          ]
        },
        {
          "data": {
            "text/plain": [
              "<keras.callbacks.History at 0x1829f2facd0>"
            ]
          },
          "execution_count": 18,
          "metadata": {},
          "output_type": "execute_result"
        }
      ],
      "source": [
        "#training the model\n",
        "model.fit(X_train, y_train, epochs=15)"
      ]
    },
    {
      "cell_type": "code",
      "execution_count": null,
      "id": "c845e7c0",
      "metadata": {
        "scrolled": true,
        "id": "c845e7c0",
        "outputId": "5cbec792-a7af-488b-d1c3-13aa3cd3fb74"
      },
      "outputs": [
        {
          "name": "stdout",
          "output_type": "stream",
          "text": [
            "Requirement already satisfied: h5py in c:\\ruchira\\anaconda3\\lib\\site-packages (3.10.0)\n",
            "Requirement already satisfied: numpy>=1.17.3 in c:\\ruchira\\anaconda3\\lib\\site-packages (from h5py) (1.21.5)\n",
            "Note: you may need to restart the kernel to use updated packages.\n"
          ]
        }
      ],
      "source": [
        "pip install h5py\n"
      ]
    },
    {
      "cell_type": "code",
      "execution_count": null,
      "id": "2e850f94",
      "metadata": {
        "id": "2e850f94",
        "outputId": "3bce19bf-3b8d-4efa-d396-0c2e4f65540c"
      },
      "outputs": [
        {
          "name": "stdout",
          "output_type": "stream",
          "text": [
            "Requirement already satisfied: h5py in c:\\ruchira\\anaconda3\\lib\\site-packages (3.10.0)Note: you may need to restart the kernel to use updated packages.\n",
            "Requirement already satisfied: numpy>=1.17.3 in c:\\ruchira\\anaconda3\\lib\\site-packages (from h5py) (1.21.5)\n",
            "\n"
          ]
        }
      ],
      "source": [
        "pip install --upgrade h5py\n"
      ]
    },
    {
      "cell_type": "code",
      "execution_count": null,
      "id": "33e1eb43",
      "metadata": {
        "id": "33e1eb43"
      },
      "outputs": [],
      "source": [
        "import h5py\n"
      ]
    },
    {
      "cell_type": "code",
      "execution_count": null,
      "id": "183bf889",
      "metadata": {
        "id": "183bf889"
      },
      "outputs": [],
      "source": [
        "model.save(\"AIGeneratedModel.h5\")"
      ]
    },
    {
      "cell_type": "code",
      "execution_count": null,
      "id": "bd087f3e",
      "metadata": {
        "id": "bd087f3e"
      },
      "outputs": [],
      "source": [
        "model_new = keras.models.load_model(\"AIGeneratedModel.h5\")"
      ]
    },
    {
      "cell_type": "code",
      "execution_count": null,
      "id": "3455744d",
      "metadata": {
        "scrolled": true,
        "id": "3455744d",
        "outputId": "06b337bc-0c6e-4799-fb41-242cf1602c6e"
      },
      "outputs": [
        {
          "name": "stdout",
          "output_type": "stream",
          "text": [
            "Unable to read: C:\\Users\\puroh\\Downloads\\dataset_train\\AIGenerated\\ai generated characters_34.gif\n",
            "Unable to read: C:\\Users\\puroh\\Downloads\\dataset_train\\AIGenerated\\ai generated characters_36.gif\n"
          ]
        }
      ],
      "source": [
        "import os\n",
        "import cv2 as cv\n",
        "data = r\"C:\\Users\\puroh\\Downloads\\dataset_train\"\n",
        "categories = ['Real', 'AIGenerated']\n",
        "\n",
        "img_size = 48\n",
        "testing_data = []\n",
        "\n",
        "for category in categories:\n",
        "    path = os.path.join(data, category)\n",
        "    class_num = categories.index(category)\n",
        "    for img in os.listdir(path):\n",
        "        try:\n",
        "            img_array = cv.imread(os.path.join(path,img))\n",
        "            if img_array is not None:\n",
        "                new_array = cv.resize(img_array, (48,48))\n",
        "                new_array = new_array / 255\n",
        "                testing_data.append([new_array, class_num])\n",
        "            else:\n",
        "                print(f\"Unable to read: {os.path.join(path,img)}\")\n",
        "        except Exception as e:\n",
        "            print(f\"Error processing image: {os.path.join(path,img)}. Error: {e}\")\n",
        "\n",
        "\n",
        "random.shuffle(testing_data)\n",
        "\n",
        "X_test = []\n",
        "y_test = []\n",
        "\n",
        "for features, label in testing_data:\n",
        "    X_test.append(features)\n",
        "    y_test.append(label)\n",
        "\n",
        "X_test = np.array(X_test).reshape(-1, img_size, img_size, 3)\n",
        "y_test = np.array(y_test)"
      ]
    },
    {
      "cell_type": "code",
      "execution_count": null,
      "id": "441fb11e",
      "metadata": {
        "id": "441fb11e",
        "outputId": "91c0b269-09c3-4f54-b97d-bfe777770d6e"
      },
      "outputs": [
        {
          "name": "stdout",
          "output_type": "stream",
          "text": [
            "32/32 [==============================] - 1s 13ms/step - loss: 0.2904 - accuracy: 0.8855\n"
          ]
        },
        {
          "data": {
            "text/plain": [
              "[0.2904057502746582, 0.8854886293411255]"
            ]
          },
          "execution_count": 25,
          "metadata": {},
          "output_type": "execute_result"
        }
      ],
      "source": [
        "model_new.evaluate(X_test, y_test)"
      ]
    },
    {
      "cell_type": "code",
      "execution_count": null,
      "id": "31612cae",
      "metadata": {
        "id": "31612cae",
        "outputId": "db15b56f-6769-4d31-c491-38d8530eab70"
      },
      "outputs": [
        {
          "name": "stdout",
          "output_type": "stream",
          "text": [
            "32/32 [==============================] - 1s 14ms/step\n"
          ]
        }
      ],
      "source": [
        "y_pred = model_new.predict(X_test)"
      ]
    },
    {
      "cell_type": "code",
      "execution_count": null,
      "id": "ed9e9ea0",
      "metadata": {
        "id": "ed9e9ea0",
        "outputId": "1830e2e0-fcba-4471-a766-7911e40cae1c"
      },
      "outputs": [
        {
          "data": {
            "text/plain": [
              "(1013, 48, 48, 3)"
            ]
          },
          "execution_count": 27,
          "metadata": {},
          "output_type": "execute_result"
        }
      ],
      "source": [
        "X_test.shape"
      ]
    },
    {
      "cell_type": "code",
      "execution_count": null,
      "id": "fc2f8a22",
      "metadata": {
        "id": "fc2f8a22",
        "outputId": "e3f31d3f-15c9-4577-f325-4a21929e0101"
      },
      "outputs": [
        {
          "data": {
            "text/plain": [
              "(1013,)"
            ]
          },
          "execution_count": 28,
          "metadata": {},
          "output_type": "execute_result"
        }
      ],
      "source": [
        "y_test.shape"
      ]
    },
    {
      "cell_type": "code",
      "execution_count": null,
      "id": "304b784a",
      "metadata": {
        "id": "304b784a",
        "outputId": "ade2daa8-e105-4409-989a-f88d87ee2bbd"
      },
      "outputs": [
        {
          "data": {
            "text/plain": [
              "(1013, 1)"
            ]
          },
          "execution_count": 29,
          "metadata": {},
          "output_type": "execute_result"
        }
      ],
      "source": [
        "y_pred.shape"
      ]
    },
    {
      "cell_type": "code",
      "execution_count": null,
      "id": "6082fc8f",
      "metadata": {
        "id": "6082fc8f"
      },
      "outputs": [],
      "source": [
        "y_predicted = [int(pred[0] + 0.5) for pred in y_pred]"
      ]
    },
    {
      "cell_type": "code",
      "execution_count": null,
      "id": "cae7d09d",
      "metadata": {
        "scrolled": false,
        "id": "cae7d09d",
        "outputId": "93502312-d1f9-41cb-9c78-03875b870805"
      },
      "outputs": [
        {
          "name": "stdout",
          "output_type": "stream",
          "text": [
            "              precision    recall  f1-score   support\n",
            "\n",
            "           0       0.88      0.90      0.89       507\n",
            "           1       0.89      0.87      0.88       506\n",
            "\n",
            "    accuracy                           0.89      1013\n",
            "   macro avg       0.89      0.89      0.89      1013\n",
            "weighted avg       0.89      0.89      0.89      1013\n",
            "\n"
          ]
        }
      ],
      "source": [
        "from sklearn.metrics import classification_report\n",
        "\n",
        "print(classification_report(y_test,y_predicted))"
      ]
    },
    {
      "cell_type": "code",
      "execution_count": null,
      "id": "afa47fa9",
      "metadata": {
        "id": "afa47fa9"
      },
      "outputs": [],
      "source": [
        "def find_out(path_img):\n",
        "    img_arr = cv.imread(path_img)\n",
        "    plt.imshow(cv.cvtColor(img_arr, cv.COLOR_BGR2RGB))\n",
        "    new_arr = cv.resize(img_arr, (48, 48))\n",
        "    new_arr = new_arr / 255\n",
        "    test = []\n",
        "    test.append(new_arr)\n",
        "    test = np.array(test).reshape(-1, img_size, img_size, 3)\n",
        "    y = model_new.predict(test)\n",
        "\n",
        "    predicted_class = int(y[0][0] + 0.5)\n",
        "\n",
        "    if predicted_class == 0:\n",
        "        print(\"The given image is Real.\")\n",
        "    else:\n",
        "        print(\"The given image is AI Generated.\")\n"
      ]
    },
    {
      "cell_type": "code",
      "execution_count": null,
      "id": "870e4548",
      "metadata": {
        "scrolled": false,
        "id": "870e4548",
        "outputId": "6283d21d-b826-4ff9-dda7-27171a826608"
      },
      "outputs": [
        {
          "name": "stdout",
          "output_type": "stream",
          "text": [
            "1/1 [==============================] - 0s 26ms/step\n",
            "The given image is AI Generated.\n"
          ]
        },
        {
          "data": {
            "image/png": "[encoded data removed]",
            "text/plain": [
              "<Figure size 432x288 with 1 Axes>"
            ]
          },
          "metadata": {
            "needs_background": "light"
          },
          "output_type": "display_data"
        }
      ],
      "source": [
        "\n",
        "path_img = r\"C:\\Users\\puroh\\Downloads\\dataset_train\\AIGenerated\\7.jpg\"\n",
        "find_out(path_img)"
      ]
    },
    {
      "cell_type": "code",
      "execution_count": null,
      "id": "8e2eadc9",
      "metadata": {
        "id": "8e2eadc9"
      },
      "outputs": [],
      "source": []
    },
    {
      "cell_type": "code",
      "execution_count": null,
      "id": "8e1513e7",
      "metadata": {
        "scrolled": true,
        "id": "8e1513e7",
        "outputId": "4918d9ce-143d-4de8-d363-1132be69a25c"
      },
      "outputs": [
        {
          "data": {
            "image/png": "[encoded data removed]",
            "text/plain": [
              "<Figure size 432x288 with 2 Axes>"
            ]
          },
          "metadata": {
            "needs_background": "light"
          },
          "output_type": "display_data"
        }
      ],
      "source": [
        "from sklearn.metrics import confusion_matrix\n",
        "import seaborn as sns\n",
        "\n",
        "# Assuming you have already predicted the labels as y_predicted\n",
        "# Create a confusion matrix\n",
        "conf_matrix = confusion_matrix(y_test, y_predicted)\n",
        "\n",
        "# Create a heatmap of the confusion matrix\n",
        "sns.heatmap(conf_matrix, annot=True, fmt='d', cmap=\"YlGnBu\", xticklabels=['Real', 'AIGenerated'], yticklabels=['Real', 'AIGenerated'])\n",
        "plt.xlabel(\"Predicted\")\n",
        "plt.ylabel(\"Actual\")\n",
        "plt.title(\"Confusion Matrix\")\n",
        "plt.show()\n"
      ]
    },
    {
      "cell_type": "code",
      "execution_count": null,
      "id": "ae0d8d96",
      "metadata": {
        "id": "ae0d8d96",
        "outputId": "3e5730b1-8962-43c6-e36f-98066a3db6ce"
      },
      "outputs": [
        {
          "name": "stdout",
          "output_type": "stream",
          "text": [
            "Score for fold 1: accuracy of 82.019704580307%\n",
            "Score for fold 2: accuracy of 77.0370364189148%\n",
            "Score for fold 3: accuracy of 87.16049194335938%\n",
            "Score for fold 4: accuracy of 85.92592477798462%\n",
            "Score for fold 5: accuracy of 81.4814805984497%\n",
            "Average accuracy: 82.7249276638031\n"
          ]
        }
      ],
      "source": [
        "\n",
        "import numpy as np\n",
        "import tensorflow as tf\n",
        "from sklearn.model_selection import StratifiedKFold\n",
        "\n",
        "X_data = np.concatenate((X_train, X_test), axis=0)\n",
        "y_data = np.concatenate((y_train, y_test), axis=0)\n",
        "\n",
        "\n",
        "def create_model():\n",
        "    model = keras.Sequential([\n",
        "    keras.layers.Conv2D(32,(3,3), activation='relu', input_shape = (48,48,3)),\n",
        "    keras.layers.MaxPool2D((2,2)),\n",
        "    keras.layers.Dropout(0.2),\n",
        "\n",
        "    keras.layers.Conv2D(64,(3,3), activation='relu'),\n",
        "    keras.layers.MaxPool2D((2,2)),\n",
        "    keras.layers.Dropout(0.2),\n",
        "\n",
        "    keras.layers.Conv2D(128,(3,3), activation='relu'),\n",
        "    keras.layers.MaxPool2D((2,2)),\n",
        "    keras.layers.Dropout(0.2),\n",
        "\n",
        "    keras.layers.Conv2D(256,(3,3), activation='relu'),\n",
        "    keras.layers.MaxPool2D((2,2)),\n",
        "    keras.layers.Dropout(0.2),\n",
        "\n",
        "    keras.layers.Flatten(),\n",
        "    keras.layers.Dense(64, activation='relu'),\n",
        "    keras.layers.Dense(64, activation='relu'),\n",
        "    keras.layers.Dense(1, activation='sigmoid')\n",
        "\n",
        "])\n",
        "    model.compile(\n",
        "        optimizer='adam',\n",
        "        loss='binary_crossentropy',\n",
        "        metrics=['accuracy']\n",
        "    )\n",
        "\n",
        "    return model\n",
        "\n",
        "kfold = StratifiedKFold(n_splits=5, shuffle=True, random_state=42)\n",
        "\n",
        "\n",
        "acc_per_fold = []\n",
        "\n",
        "# Perform cross-validation\n",
        "fold_no = 1\n",
        "for train_index, test_index in kfold.split(X_data, y_data):\n",
        "    X_train_fold, X_test_fold = X_data[train_index], X_data[test_index]\n",
        "    y_train_fold, y_test_fold = y_data[train_index], y_data[test_index]\n",
        "\n",
        "    model = create_model()\n",
        "\n",
        "    model.fit(X_train_fold, y_train_fold, epochs=15, batch_size=32, verbose=0)\n",
        "\n",
        "    # Evaluate the model\n",
        "    scores = model.evaluate(X_test_fold, y_test_fold, verbose=0)\n",
        "    print(f'Score for fold {fold_no}: {model.metrics_names[1]} of {scores[1]*100}%')\n",
        "    acc_per_fold.append(scores[1] * 100)\n",
        "\n",
        "    fold_no += 1\n",
        "\n",
        "# Print mean accuracy across all folds\n",
        "print('Average accuracy:', np.mean(acc_per_fold))\n"
      ]
    },
    {
      "cell_type": "code",
      "execution_count": null,
      "id": "c06942f2",
      "metadata": {
        "id": "c06942f2"
      },
      "outputs": [],
      "source": []
    },
    {
      "cell_type": "code",
      "execution_count": null,
      "id": "f85e3d84",
      "metadata": {
        "id": "f85e3d84"
      },
      "outputs": [],
      "source": []
    },
    {
      "cell_type": "code",
      "execution_count": null,
      "id": "cff5deb9",
      "metadata": {
        "id": "cff5deb9"
      },
      "outputs": [],
      "source": []
    },
    {
      "cell_type": "code",
      "execution_count": null,
      "id": "a7a46421",
      "metadata": {
        "id": "a7a46421"
      },
      "outputs": [],
      "source": []
    },
    {
      "cell_type": "code",
      "execution_count": null,
      "id": "c6b59d96",
      "metadata": {
        "id": "c6b59d96"
      },
      "outputs": [],
      "source": []
    },
    {
      "cell_type": "code",
      "execution_count": null,
      "id": "82d9ffc0",
      "metadata": {
        "id": "82d9ffc0"
      },
      "outputs": [],
      "source": []
    },
    {
      "cell_type": "code",
      "execution_count": null,
      "id": "643a2d46",
      "metadata": {
        "id": "643a2d46"
      },
      "outputs": [],
      "source": []
    },
    {
      "cell_type": "code",
      "execution_count": null,
      "id": "d822cf94",
      "metadata": {
        "id": "d822cf94"
      },
      "outputs": [],
      "source": []
    }
  ],
  "metadata": {
    "kernelspec": {
      "display_name": "Python 3 (ipykernel)",
      "language": "python",
      "name": "python3"
    },
    "language_info": {
      "codemirror_mode": {
        "name": "ipython",
        "version": 3
      },
      "file_extension": ".py",
      "mimetype": "text/x-python",
      "name": "python",
      "nbconvert_exporter": "python",
      "pygments_lexer": "ipython3",
      "version": "3.9.12"
    },
    "colab": {
      "provenance": []
    }
  },
  "nbformat": 4,
  "nbformat_minor": 5
}